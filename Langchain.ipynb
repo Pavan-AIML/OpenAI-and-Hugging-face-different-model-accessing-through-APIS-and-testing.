{
 "cells": [
  {
   "cell_type": "code",
   "execution_count": 1,
   "metadata": {},
   "outputs": [
    {
     "name": "stdout",
     "output_type": "stream",
     "text": [
      "1.58.1\n"
     ]
    }
   ],
   "source": [
    "import openai\n",
    "import config\n",
    "print(openai.__version__)"
   ]
  },
  {
   "cell_type": "code",
   "execution_count": 2,
   "metadata": {},
   "outputs": [],
   "source": [
    "api_key = config.secreat_key"
   ]
  },
  {
   "cell_type": "code",
   "execution_count": 3,
   "metadata": {},
   "outputs": [],
   "source": [
    "openai.api_key = api_key"
   ]
  },
  {
   "cell_type": "markdown",
   "metadata": {},
   "source": [
    "## Lang chain -:\n",
    "- LangChain is a framework for developing applications powered by language models.\n",
    "- As GPT are trained in the old data sets in this case we can use LAng chain to read our data."
   ]
  },
  {
   "cell_type": "code",
   "execution_count": 7,
   "metadata": {},
   "outputs": [
    {
     "name": "stderr",
     "output_type": "stream",
     "text": [
      "USER_AGENT environment variable not set, consider setting it to identify your requests.\n"
     ]
    }
   ],
   "source": [
    "from langchain.document_loaders import WebBaseLoader\n",
    "from langchain.text_splitter import RecursiveCharacterTextSplitter\n",
    "from langchain.embeddings import OpenAIEmbeddings\n",
    "from langchain.vectorstores import FAISS\n",
    "from langchain.memory import ConversationBufferMemory\n",
    "from langchain.llms import OpenAI\n",
    "from langchain.chains import ConversationalRetrievalChain\n",
    "# from langchain_community.vectorstores import FAISS"
   ]
  },
  {
   "cell_type": "code",
   "execution_count": 8,
   "metadata": {},
   "outputs": [],
   "source": [
    "url = \"https://www.docker.com/products/\""
   ]
  },
  {
   "cell_type": "markdown",
   "metadata": {},
   "source": [
    "- Here we are using the web based loader tp read the web data from website."
   ]
  },
  {
   "cell_type": "code",
   "execution_count": 10,
   "metadata": {},
   "outputs": [],
   "source": [
    "loader = WebBaseLoader(url)"
   ]
  },
  {
   "cell_type": "markdown",
   "metadata": {},
   "source": [
    "- Loading the data from url and converting it to Langchain documents."
   ]
  },
  {
   "cell_type": "code",
   "execution_count": 11,
   "metadata": {},
   "outputs": [
    {
     "data": {
      "text/plain": [
       "[Document(metadata={'source': 'https://www.docker.com/products/', 'title': 'Products | Docker', 'description': 'End-to-end developer solutions for innovative teams', 'language': 'en-US'}, page_content=\"\\n\\n\\n\\n\\n\\n\\nProducts | Docker\\n\\n\\n\\n\\n\\n\\n\\n\\n\\n\\n\\n\\n\\n\\n\\n\\n\\n\\n\\n\\n\\n\\n\\n\\n\\n\\n\\n\\n\\n\\n\\n\\n\\n\\n\\n\\n\\n\\n\\n\\n\\n\\n\\n\\n\\n\\n\\n\\n\\n\\n\\n\\n\\n\\n\\n\\n\\n\\n\\n\\n\\n\\n\\n\\n\\n\\n\\n\\n\\n\\n\\n\\n\\n\\n\\n\\n\\n\\n\\n\\n\\n\\n\\n\\n\\n\\n\\n\\n\\n\\n\\n\\n\\n\\n\\nMore Docker. Easy Access. New Streamlined Plans. Learn more\\nDocs\\nGet support\\nContact sales\\n\\n\\n\\n\\nProducts\\n\\n\\n\\n\\n\\n\\n\\n\\n\\n\\n\\n\\n\\n\\nProductsDocker DesktopContainerize your applicationsDocker HubDiscover and share container imagesDocker ScoutSimplify the software supply chainDocker Build Cloud\\n\\n\\n\\nSpeed up your image buildsTestcontainers Desktop  Local testing with real dependenciesTestcontainers Cloud  Test without limits in the cloud See our product roadmapMORE resources for developers\\n\\nDocker Desktop v4.37\\nFind out what’s new to Docker Desktop in the latest release\\nRead more\\nDevelopers\\n\\n\\n\\n\\n\\n\\n\\n\\n\\n\\n\\n\\n\\n\\nDevelopersDocumentation  Find guides for Docker productsGetting StartedLearn the Docker basicsResourcesSearch a library of helpful materialsTrainingSkill up your Docker knowledgeExtensions SDKCreate and share your own extensionsCommunityConnect with other Docker developersOpen SourceExplore open source projectsPreview ProgramHelp shape the future of DockerCustomer StoriesGet inspired with customer storiesGet the latest Docker newsMORE resources for developers\\n\\n2024 State Of Application Development Report \\nA deep-focus snapshot of the evolving software development world\\nRead more\\n\\n\\nCase Study: CDS\\nHow CDS embraced cloud native development with Docker\\nRead more\\nPricingSupportBlogCompany\\n\\n\\n\\n\\n\\n\\n\\n\\n\\n\\n\\n\\n\\n\\nCompanyAbout UsLet us introduce ourselvesWhat is a Container?Learn about containerizationWhy DockerDiscover what makes us differentTrustFind our customer trust resourcesPartnersBecome a Docker partnerCustomer SuccessLearn how you can succeed with DockerEventsAttend live and virtual meet upsDocker Store  Gear up with exclusive SWAGCareersApply to join our teamContact UsWe’d love to hear from youCompany\\n\\nDocker Announces SOC 2 Type 2 Attestation & ISO 27001 Certification\\nLearn what this means for Docker security and compliance\\nRead more\\nGet startedDocsGet supportContact sales\\n\\n search \\nSign In\\nGet started\\n\\n\\n\\n\\n\\n\\n\\n\\n\\n\\n\\n\\n\\n\\n\\n\\n\\n\\n\\n search \\nProducts\\n\\n\\n\\n\\n\\n\\n\\n\\n\\n\\n\\n\\n\\n\\nProductsDocker DesktopContainerize your applicationsDocker HubDiscover and share container imagesDocker ScoutSimplify the software supply chainDocker Build Cloud\\n\\n\\n\\nSpeed up your image buildsTestcontainers Desktop  Local testing with real dependenciesTestcontainers Cloud  Test without limits in the cloud See our product roadmapMORE resources for developers\\n\\nDocker Desktop v4.37\\nFind out what’s new to Docker Desktop in the latest release\\nRead more\\nDevelopers\\n\\n\\n\\n\\n\\n\\n\\n\\n\\n\\n\\n\\n\\n\\nDevelopersDocumentation  Find guides for Docker productsGetting StartedLearn the Docker basicsResourcesSearch a library of helpful materialsTrainingSkill up your Docker knowledgeExtensions SDKCreate and share your own extensionsCommunityConnect with other Docker developersOpen SourceExplore open source projectsPreview ProgramHelp shape the future of DockerCustomer StoriesGet inspired with customer storiesGet the latest Docker newsMORE resources for developers\\n\\n2024 State Of Application Development Report \\nA deep-focus snapshot of the evolving software development world\\nRead more\\n\\n\\nCase Study: CDS\\nHow CDS embraced cloud native development with Docker\\nRead more\\nPricingSupportBlogCompany\\n\\n\\n\\n\\n\\n\\n\\n\\n\\n\\n\\n\\n\\n\\nCompanyAbout UsLet us introduce ourselvesWhat is a Container?Learn about containerizationWhy DockerDiscover what makes us differentTrustFind our customer trust resourcesPartnersBecome a Docker partnerCustomer SuccessLearn how you can succeed with DockerEventsAttend live and virtual meet upsDocker Store  Gear up with exclusive SWAGCareersApply to join our teamContact UsWe’d love to hear from youCompany\\n\\nDocker Announces SOC 2 Type 2 Attestation & ISO 27001 Certification\\nLearn what this means for Docker security and compliance\\nRead more\\nGet startedDocsGet supportContact sales\\n\\nSign In\\nGet started\\n\\n\\n\\n\\n\\n\\n\\n\\n\\n\\n\\n\\n\\nProducts\\nImprove software delivery with innovative tools\\nEnd-to-end developer solutions for innovative teams \\n\\n\\n\\n\\n\\nCompare plans\\n\\n\\n\\nRequest a quote\\n\\n\\n\\n\\n\\n\\n\\nA robust platform for enhanced development\\nDocker’s suite of integrated tools offers an all-in-one solution for building, securing, and deploying containerized applications. Fast local development, secure image management, and cloud-powered builds—all included in a platform designed for modern software development.\\n\\n\\n\\n\\n\\nDocker Desktop\\nBuild and test applications faster with local container development\\nWith Docker Desktop, enjoy a unified development environment featuring a comprehensive suite of tools:\\nLearn more \\n\\nSimplify development\\nEnjoy a unified environment for building and running containers locally.\\nEnhance collaboration\\nEasily share your development environment with team members using built-in Kubernetes and Docker Compose.\\nBoost productivity\\nQuickly iterate on your applications with a fast and responsive UI.\\nStreamline deployment\\nEffortlessly push your containerized applications to Docker Hub or other registries. \\n\\n\\n\\n\\n\\n\\n\\n\\n\\n\\n\\nDocker Hub\\nEasily create, manage, and deliver containerized applications\\nDocker Hub is your go-to repository for container images, offering powerful features to enhance your development workflow:\\nLearn more \\n\\nAccess pre-built images\\nStart projects quickly with Trusted Content and community-contributed resources.\\nStreamline image management\\nOrganize and manage your images with automated build capabilities and version control.\\nFoster team collaboration\\nShare and collaborate on images seamlessly with your team.\\nEnsure trust and security\\n benefit from Docker’s verified image repository for reliable, up-to-date resources. \\n\\n\\n\\n\\n\\n\\n\\n\\n\\n\\n\\nDocker Scout\\nSecure your software supply chain with container monitoring\\nDocker Scout provides detailed monitoring and security insights to keep your containers secure and optimized:\\nLearn more\\n\\nGain visibility\\nMonitor container security and performance with detailed analytics.\\nIdentify vulnerabilities\\nDetect and address potential issues before they impact your operations.\\nEnsure compliance\\nVerify that your containers meet security standards and regulatory requirements.\\nOptimize performance\\nGet actionable insights to enhance your containerized applications' performance. \\n\\n\\n\\n\\n\\n\\n\\n\\n\\n\\n\\nDocker Build Cloud\\nIncrease developer productivity with faster build times\\nWith Docker Build Cloud, experience a revolutionized build process that enhances both speed and efficiency:\\nLearn more\\n\\nAccelerate builds\\nLeverage cloud infrastructure to significantly speed up build times.\\nIntegrate seamlessly\\nConnect with CI/CD tools like GitHub Actions for streamlined workflows.\\nEnhance scalability\\nScale your builds dynamically to handle large and complex applications.\\nImprove reliability\\nEnsure consistent and reliable builds with a robust cloud-based system. \\n\\n\\n\\n\\n\\n\\n\\n\\n\\n\\n\\nEnterprise features with proven results\\nDiscover how Docker delivers substantial business value through enhanced efficiency, cost savings, and superior quality. Our Business features have been proven to drive significant improvements across various metrics: \\n\\nLearn more about the Total Economic Impact™ of Docker Business\\n\\nGet Docker for business\\n\\n\\n\\n\\n126%\\nreturn on investment (ROI)\\nAchieve a substantial return on your investment with Docker’s solutions.\\n\\n\\n$66.9M\\nin net present value (NPV)\\nRealize long-term financial benefits, reflecting the overall value Docker brings to your business.\\n\\n\\n3 months\\nimproved time to market\\nAccelerate the deployment of revenue-generating applications, speeding up your time to market.\\n\\n\\n\\n\\n6%\\nincrease in application developer efficiency\\nBoost your development productivity with Docker’s tools.\\n\\n\\n3x\\nreduction in servers due to improved VM density\\nOptimize your infrastructure and reduce server requirements through enhanced virtual machine density.\\n\\n\\n\\n\\n\\n\\n\\n\\n\\n\\n“Docker is critical for enterprise-grade systems because it integrates with anything. If we’re building enterprise architecture, there really is no other choice than Docker.”\\n\\nMona Fawzy\\nJaneTech \\n\\nLearn more\\n\\n\\n\\n\\n\\n\\n\\n\\n\\nBrowse customer stories\\n\\n\\n\\n\\n\\n\\n\\n\\n\\n\\n\\n\\n\\n\\n\\n\\n\\n\\n\\n\\n\\n\\n\\n\\n\\n\\n\\n\\n\\n\\n\\n\\n\\n\\n\\n\\n\\n\\n\\n\\n\\n\\n\\n\\n\\n\\n\\n\\n\\n\\n\\n\\n\\n\\n\\n\\n\\n\\n\\n\\n\\n\\n\\n\\n\\n\\n\\n\\n\\n\\n\\n\\n\\n\\n\\n\\n\\n\\nGet started with Docker\\nBuild and test your applications with ease \\n\\n\\n\\n\\n\\nCompare plans\\n\\n\\n\\nRequest a quote\\n\\n\\n\\n \\n\\n\\n\\n\\n\\n\\n\\n\\n\\n\\n\\n\\n\\nProducts\\n\\nDocker Desktop\\nDocker Hub\\nDocker Scout\\nDocker Build Cloud\\nFeatures\\nCommand Line Interface\\nIDE Extensions\\nContainer Runtime\\nDocker Extensions\\nTrusted Open Source Content\\nSecure Software Supply Chain\\nProduct Roadmap\\n\\n\\nDevelopers\\n\\nDocumentation\\nGetting Started\\nTrainings\\nExtensions SDK\\nCommunity\\nOpen Source\\nPreview Program\\n\\n\\nPricing\\n\\nPersonal\\nPro\\nTeam\\nBusiness\\nPricing FAQ\\nContact Sales\\n\\n\\nSupport\\n\\nDocker System Status\\n\\n\\nBlog\\n\\nNewsletter\\n\\n\\nCompany\\n\\nAbout Us\\nWhat is a Container\\nWhy Docker\\nTrust\\nCustomer Success\\nPartners\\nEvents\\nNewsroom\\nSwag Store\\nBrand Guidelines\\nTrademark Guidelines\\nCareers\\nContact Us\\nLanguages\\n\\nEnglish\\n日本語\\n\\n\\n\\n\\n\\n\\n\\n\\n\\n\\n\\n\\n\\n\\n\\n\\n\\n\\n\\n\\n\\n\\n\\n\\n\\n\\n\\n\\n\\n\\n\\n© 2024 Docker Inc. All rights reserved|Terms of Service|Privacy|Legal\\n\\n\\nCookie Settings\\n\\n\\n\\n\\n \\n\\n\\n\\n\\n\\n\\n\\n\\n\\n\\n\\n\\n\\n\\n\\n\\n\")]"
      ]
     },
     "execution_count": 11,
     "metadata": {},
     "output_type": "execute_result"
    }
   ],
   "source": [
    "raw_documents = loader.load()\n",
    "raw_documents"
   ]
  },
  {
   "cell_type": "code",
   "execution_count": 12,
   "metadata": {},
   "outputs": [],
   "source": [
    "# to split the text data.\n",
    "\n",
    "text_splitter = RecursiveCharacterTextSplitter()\n",
    "documents = text_splitter.split_documents(raw_documents)\n",
    "\n",
    "from langchain.embeddings import OpenAIEmbeddings"
   ]
  },
  {
   "cell_type": "code",
   "execution_count": 13,
   "metadata": {},
   "outputs": [
    {
     "name": "stderr",
     "output_type": "stream",
     "text": [
      "/var/folders/ry/cpzzpnh51yvfh6ctzlsm0jsw0000gn/T/ipykernel_7755/1384645286.py:1: LangChainDeprecationWarning: The class `OpenAIEmbeddings` was deprecated in LangChain 0.0.9 and will be removed in 1.0. An updated version of the class exists in the :class:`~langchain-openai package and should be used instead. To use it run `pip install -U :class:`~langchain-openai` and import as `from :class:`~langchain_openai import OpenAIEmbeddings``.\n",
      "  embeddings = OpenAIEmbeddings(openai_api_key = api_key)\n"
     ]
    }
   ],
   "source": [
    "embeddings = OpenAIEmbeddings(openai_api_key = api_key)"
   ]
  },
  {
   "cell_type": "markdown",
   "metadata": {},
   "source": [
    "- Creating a vector store."
   ]
  },
  {
   "cell_type": "code",
   "execution_count": 14,
   "metadata": {},
   "outputs": [],
   "source": [
    "vectore_store = FAISS.from_documents(documents, embeddings)"
   ]
  },
  {
   "cell_type": "markdown",
   "metadata": {},
   "source": [
    "- Creating the memory for holding the conversation."
   ]
  },
  {
   "cell_type": "code",
   "execution_count": 17,
   "metadata": {},
   "outputs": [
    {
     "name": "stderr",
     "output_type": "stream",
     "text": [
      "/var/folders/ry/cpzzpnh51yvfh6ctzlsm0jsw0000gn/T/ipykernel_7755/1930200416.py:1: LangChainDeprecationWarning: Please see the migration guide at: https://python.langchain.com/docs/versions/migrating_memory/\n",
      "  memory = ConversationBufferMemory(memory_key = \"chat_history\", return_messages = True)\n"
     ]
    }
   ],
   "source": [
    "memory = ConversationBufferMemory(memory_key = \"chat_history\", return_messages = True)"
   ]
  },
  {
   "cell_type": "markdown",
   "metadata": {},
   "source": [
    "- Initialization of convertational chain. This chain frist combines the question answer chain."
   ]
  },
  {
   "cell_type": "code",
   "execution_count": 19,
   "metadata": {},
   "outputs": [
    {
     "name": "stderr",
     "output_type": "stream",
     "text": [
      "/var/folders/ry/cpzzpnh51yvfh6ctzlsm0jsw0000gn/T/ipykernel_7755/2876761455.py:1: LangChainDeprecationWarning: The class `OpenAI` was deprecated in LangChain 0.0.10 and will be removed in 1.0. An updated version of the class exists in the :class:`~langchain-openai package and should be used instead. To use it run `pip install -U :class:`~langchain-openai` and import as `from :class:`~langchain_openai import OpenAI``.\n",
      "  qa = ConversationalRetrievalChain.from_llm(OpenAI(openai_api_key = api_key,temperature = 0), vectore_store.as_retriever(), memory = memory)\n"
     ]
    }
   ],
   "source": [
    "qa = ConversationalRetrievalChain.from_llm(OpenAI(openai_api_key = api_key,temperature = 0), vectore_store.as_retriever(), memory = memory)"
   ]
  },
  {
   "cell_type": "markdown",
   "metadata": {},
   "source": [
    "- Now we are ready to ask questions and queries from the model"
   ]
  },
  {
   "cell_type": "code",
   "execution_count": 20,
   "metadata": {},
   "outputs": [],
   "source": [
    "query = \"What is the next product in Docker website. \""
   ]
  },
  {
   "cell_type": "code",
   "execution_count": 21,
   "metadata": {},
   "outputs": [
    {
     "name": "stderr",
     "output_type": "stream",
     "text": [
      "/var/folders/ry/cpzzpnh51yvfh6ctzlsm0jsw0000gn/T/ipykernel_7755/191374044.py:1: LangChainDeprecationWarning: The method `Chain.__call__` was deprecated in langchain 0.1.0 and will be removed in 1.0. Use :meth:`~invoke` instead.\n",
      "  result = qa({\"question\":query})\n"
     ]
    }
   ],
   "source": [
    "result = qa({\"question\":query})"
   ]
  },
  {
   "cell_type": "markdown",
   "metadata": {},
   "source": [
    "- LLM Response in our query"
   ]
  },
  {
   "cell_type": "code",
   "execution_count": 23,
   "metadata": {},
   "outputs": [
    {
     "data": {
      "text/plain": [
       "' The next product listed on the Docker website is Docker Scout, which is a tool for monitoring and securing the software supply chain.'"
      ]
     },
     "execution_count": 23,
     "metadata": {},
     "output_type": "execute_result"
    }
   ],
   "source": [
    "result[\"answer\"]"
   ]
  },
  {
   "cell_type": "code",
   "execution_count": null,
   "metadata": {},
   "outputs": [],
   "source": []
  },
  {
   "cell_type": "code",
   "execution_count": null,
   "metadata": {},
   "outputs": [],
   "source": []
  },
  {
   "cell_type": "code",
   "execution_count": null,
   "metadata": {},
   "outputs": [],
   "source": []
  },
  {
   "cell_type": "code",
   "execution_count": null,
   "metadata": {},
   "outputs": [],
   "source": []
  },
  {
   "cell_type": "code",
   "execution_count": null,
   "metadata": {},
   "outputs": [],
   "source": []
  },
  {
   "cell_type": "code",
   "execution_count": null,
   "metadata": {},
   "outputs": [],
   "source": []
  },
  {
   "cell_type": "code",
   "execution_count": null,
   "metadata": {},
   "outputs": [],
   "source": []
  },
  {
   "cell_type": "code",
   "execution_count": null,
   "metadata": {},
   "outputs": [],
   "source": []
  },
  {
   "cell_type": "code",
   "execution_count": null,
   "metadata": {},
   "outputs": [],
   "source": []
  },
  {
   "cell_type": "code",
   "execution_count": null,
   "metadata": {},
   "outputs": [],
   "source": []
  },
  {
   "cell_type": "code",
   "execution_count": null,
   "metadata": {},
   "outputs": [],
   "source": []
  },
  {
   "cell_type": "code",
   "execution_count": null,
   "metadata": {},
   "outputs": [],
   "source": []
  }
 ],
 "metadata": {
  "kernelspec": {
   "display_name": "LLmvenv",
   "language": "python",
   "name": "python3"
  },
  "language_info": {
   "codemirror_mode": {
    "name": "ipython",
    "version": 3
   },
   "file_extension": ".py",
   "mimetype": "text/x-python",
   "name": "python",
   "nbconvert_exporter": "python",
   "pygments_lexer": "ipython3",
   "version": "3.9.21"
  }
 },
 "nbformat": 4,
 "nbformat_minor": 2
}
